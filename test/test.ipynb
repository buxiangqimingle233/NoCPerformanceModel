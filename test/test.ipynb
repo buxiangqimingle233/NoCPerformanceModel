{
 "metadata": {
  "language_info": {
   "codemirror_mode": {
    "name": "ipython",
    "version": 3
   },
   "file_extension": ".py",
   "mimetype": "text/x-python",
   "name": "python",
   "nbconvert_exporter": "python",
   "pygments_lexer": "ipython3",
   "version": "3.6.9-final"
  },
  "orig_nbformat": 2,
  "kernelspec": {
   "name": "python36964bit00ae24fc1d3f454bbc2ef80aee973084",
   "display_name": "Python 3.6.9 64-bit"
  }
 },
 "nbformat": 4,
 "nbformat_minor": 2,
 "cells": [
  {
   "cell_type": "code",
   "execution_count": 12,
   "metadata": {},
   "outputs": [],
   "source": [
    "import numpy as np"
   ]
  },
  {
   "cell_type": "code",
   "execution_count": 13,
   "metadata": {
    "tags": []
   },
   "outputs": [],
   "source": [
    "P = 9                               # # of channels\n",
    "T = 1                               # serve time (1 * 1)\n",
    "L = np.arange(P * P).reshape(P, P)  # lambda_ij (P * P)\n",
    "LC = np.diag(np.arange(P))          # lamdba_i (P * P)\n",
    "R = [(T * T * LC[i, i] / 2) for i in range(P)]"
   ]
  },
  {
   "cell_type": "code",
   "execution_count": null,
   "metadata": {},
   "outputs": [],
   "source": []
  },
  {
   "cell_type": "code",
   "execution_count": 14,
   "metadata": {
    "tags": []
   },
   "outputs": [],
   "source": [
    "diag_idx = [i for i in range(P)]\n",
    "F = L / L.sum(axis=0).reshape(P, 1)\n",
    "F[diag_idx, diag_idx] = 0\n",
    "\n",
    "C = np.dot(F, F.T)\n",
    "C[diag_idx, diag_idx] = 1"
   ]
  },
  {
   "cell_type": "code",
   "execution_count": 16,
   "metadata": {
    "tags": []
   },
   "outputs": [
    {
     "output_type": "execute_result",
     "data": {
      "text/plain": "array([        nan,  5.60566781, -0.31693828, -0.29462546, -0.29999527,\n       -0.31419872, -0.33387556, -0.35833866, -0.38780642])"
     },
     "metadata": {},
     "execution_count": 16
    }
   ],
   "source": [
    "I = np.eye(P)\n",
    "N = I - np.dot(T * LC, C)\n",
    "N = np.linalg.inv(N)\n",
    "N = np.dot(np.dot(N, LC), R)\n",
    "LC_1D = np.diag(LC)\n",
    "N / LC_1D"
   ]
  },
  {
   "cell_type": "code",
   "execution_count": 62,
   "metadata": {},
   "outputs": [],
   "source": [
    "# Routing Algorithm Simulation: XY\n",
    "import numpy as np\n",
    "\n",
    "channel_size = 4\n",
    "router_size = 4\n",
    "P = channel_size\n",
    "N = np.sqrt(router_size)\n",
    "task_graph = [(0, 3, 10), (2, 1, 3)]    # src, dst, volume\n",
    "LC = np.zeros(channel_size)\n",
    "L = np.zeros((channel_size, channel_size))"
   ]
  },
  {
   "cell_type": "code",
   "execution_count": 64,
   "metadata": {
    "tags": []
   },
   "outputs": [
    {
     "output_type": "stream",
     "name": "stdout",
     "text": "[[0. 1. 0. 0.]\n [0. 0. 0. 1.]\n [0. 0. 0. 0.]\n [0. 0. 0. 0.]]\n"
    }
   ],
   "source": [
    "index2cord = lambda num: (int(num // N), int(num % N))\n",
    "f2 = lambda l, r: (min(l, r), max(l, r))\n",
    "cord2index = lambda x, y: x * N + y\n",
    "\n",
    "path = [0, 1, 3]\n",
    "L[path[:-1], path[1:]] += 1\n",
    "print(L)\n",
    "# for src, dst, vol in task_graph:\n",
    "#     src_cord_x, src_cord_y = f1(src)\n",
    "#     dst_cord_x, dst_cord_y = f1(dst)\n",
    "#     start_x, last_x = f2(src_cord_x, dst_cord_x)\n",
    "#     start_y, last_y = f2(src_cord_y, dst_cord_y)\n",
    "#     print(\"y:\", start_y, last_y)\n",
    "#     print(\"x:\", start_x, last_x)\n",
    "#     path_index = [f3(src_cord_x, y) for y in range(start_y, last_y + 1)]\n",
    "#     path_index += [f3(x, dst_cord_y) for x in range(start_x, last_x + 1)]\n",
    "#     path_index = list(set(path_index))  # 去重\n",
    "#     print(path_index)"
   ]
  },
  {
   "cell_type": "code",
   "execution_count": 66,
   "metadata": {
    "tags": []
   },
   "outputs": [
    {
     "output_type": "stream",
     "name": "stdout",
     "text": "[-1, 2]\n[2, 2]\n"
    }
   ],
   "source": [
    "task_graph = [(0, 3, 10), (2, 1, 3)]\n",
    "\n",
    "\n",
    "n = 2\n",
    "\n",
    "def index2cord(num):\n",
    "    return (int(num // n), int(num % n))\n",
    "\n",
    "def routerCord2channelIndex(x, y, direction):\n",
    "    bias = {\"east\": 0, \"west\": -1, \"north\": -n, \"south\": n - 1}\n",
    "    return x * (2 * n - 1) + y + bias.get(direction)\n",
    "\n",
    "cord_task_graph = [\n",
    "    (index2cord(item[0]), index2cord(item[1]), item[2])\n",
    "    for item in task_graph\n",
    "]\n",
    "\n",
    "cs = 4\n",
    "L = np.zeros((cs, cs))\n",
    "LC = np.zeros(cs)\n",
    "for request in cord_task_graph:\n",
    "    src_x, src_y = request[0]\n",
    "    dst_x, dst_y = request[1]\n",
    "    V = request[2]\n",
    "    # x routing\n",
    "    step = 1 if src_y < dst_y else -1\n",
    "    direction = \"west\" if src_y < dst_y else \"east\"\n",
    "    path = [\n",
    "        routerCord2channelIndex(src_x, y, direction)\n",
    "        for y in range(src_y, dst_y, step)\n",
    "    ]\n",
    "    # y routing\n",
    "    step = 1 if src_x < dst_x else -1\n",
    "    direction = \"south\" if src_x < dst_x else \"north\"\n",
    "    path += [\n",
    "        routerCord2channelIndex(x, dst_y, direction)\n",
    "        for x in range(src_x, dst_x, step)\n",
    "    ]\n",
    "    # update\n",
    "    L[path[:-1], path[1:]] += V\n",
    "    LC[path] += V\n",
    "\n",
    "    print(path)\n",
    "\n",
    "diag_index = [i for i in range(cs)]\n",
    "L[diag_index, diag_index] = 0\n"
   ]
  }
 ]
}