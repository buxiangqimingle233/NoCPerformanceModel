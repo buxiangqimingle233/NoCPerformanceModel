{
 "metadata": {
  "language_info": {
   "codemirror_mode": {
    "name": "ipython",
    "version": 3
   },
   "file_extension": ".py",
   "mimetype": "text/x-python",
   "name": "python",
   "nbconvert_exporter": "python",
   "pygments_lexer": "ipython3",
   "version": "3.6.9-final"
  },
  "orig_nbformat": 2,
  "kernelspec": {
   "name": "python36964bit00ae24fc1d3f454bbc2ef80aee973084",
   "display_name": "Python 3.6.9 64-bit"
  }
 },
 "nbformat": 4,
 "nbformat_minor": 2,
 "cells": [
  {
   "cell_type": "code",
   "execution_count": 16,
   "metadata": {},
   "outputs": [],
   "source": [
    "import numpy as np"
   ]
  },
  {
   "cell_type": "code",
   "execution_count": 17,
   "metadata": {
    "tags": []
   },
   "outputs": [],
   "source": [
    "P = 9                               # # of channels\n",
    "R = np.ones((P, 1))                 # Time spent in router handling (P * 1)\n",
    "T = 1                               # serve time (1 * 1)\n",
    "L = np.arange(P * P).reshape(P, P)  # lambda_ij (P * P)\n",
    "LC = np.diag(np.arange(P))          # lamdba_i (P * P)"
   ]
  },
  {
   "cell_type": "code",
   "execution_count": 18,
   "metadata": {
    "tags": []
   },
   "outputs": [],
   "source": [
    "diag_idx = [i for i in range(P)]\n",
    "F = L / L.sum(axis=0).reshape(P, 1)\n",
    "F[diag_idx, diag_idx] = 0\n",
    "\n",
    "C = np.dot(F, F.T)\n",
    "C[diag_idx, diag_idx] = 1"
   ]
  },
  {
   "cell_type": "code",
   "execution_count": 19,
   "metadata": {
    "tags": []
   },
   "outputs": [
    {
     "output_type": "stream",
     "name": "stdout",
     "text": "[[  0.        ]\n [124.30672902]\n [ -3.85624138]\n [ -3.33966897]\n [ -3.37974242]\n [ -3.56709239]\n [ -3.82550914]\n [ -4.13441621]\n [ -4.49013871]]\n"
    }
   ],
   "source": [
    "I = np.eye(P)\n",
    "N = I - np.dot(T * LC, C)\n",
    "N = np.linalg.inv(N)\n",
    "N = np.dot(np.dot(N, LC), R)\n",
    "print(N)"
   ]
  }
 ]
}